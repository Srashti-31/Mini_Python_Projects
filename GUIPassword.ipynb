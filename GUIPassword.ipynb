{
 "cells": [
  {
   "cell_type": "code",
   "execution_count": 3,
   "metadata": {},
   "outputs": [
    {
     "name": "stdout",
     "output_type": "stream",
     "text": [
      "[]\n"
     ]
    }
   ],
   "source": [
    "#this project will give suggestions for passwords\n",
    "\n",
    "from tkinter import *\n",
    "obj=Tk()\n",
    "obj.geometry(\"600x600\")   #for whole program gui pixels\n",
    "import random\n",
    "num=['1','2','3','4','5','6','7','8','9','0']\n",
    "upper=['A','B','C','D','E','F','G','H','I','J','K','L','M','N','O','P','Q','R','S','T','U','V','W','X','Y','Z']\n",
    "lower=['a','b','c','d','e','f','g','h','i','j','k','l','m','n','o','p','q','r','s','t','u','v','w','x','y','z']\n",
    "specialchar='`~!@#$%^&*()_+-=[]{}|/;:,<.>?'\n",
    "specialchar=list(specialchar)\n",
    "allchar=upper+lower+specialchar\n",
    "password=[]\n",
    "\n",
    "\n",
    "\n",
    "a=IntVar()\n",
    "\n",
    "L=Label(text='Length Of The Password:').place(x=20,y=20)\n",
    "\n",
    "\n",
    "#E=Entry(textvariable=a)\n",
    "E=Text(height=1, width=40)\n",
    "E.place(x=160,y=20)\n",
    "\n",
    "T=Text(width=65,height=25)\n",
    "T.place(x=30,y=120)\n",
    "\n",
    "\n",
    "\n",
    "def call(password):\n",
    "\tT.delete('1.0',END)\n",
    "\tT.insert(END,password)\n",
    "\n",
    "def simple(n,password):\n",
    "\tprint(n)\n",
    "\tn=int(n)\n",
    "\tB.config(state=\"disabled\")\n",
    "\n",
    "\tfor i in range(0,n):\n",
    "\t\tpassword.append(random.choice(upper+lower+num))\n",
    "\tpassword=''.join(password)\n",
    "\tcall(password)\n",
    "\t\n",
    "def complx(n,password):\n",
    "        B.config(state=\"disabled\")\n",
    "        n=int(n)\n",
    "        for i in range(0,n):\n",
    "                password.append(random.choice(upper+lower+num+specialchar))\n",
    "        password=''.join(password)\n",
    "        call(password)\n",
    "\n",
    "\n",
    "\n",
    "B=Button(obj,text='Simple ',command= lambda:simple(E.get(\"1.0\",'end-1c'),password))\n",
    "B.grid(row=1, column=1)\n",
    "B.place(x=200,y=80)\n",
    "\n",
    "\n",
    "B2=Button(obj,text='Complex ',command= lambda:complx(E.get(\"1.0\",'end-1c'),password))\n",
    "B2.grid(row=1, column=1)\n",
    "B2.place(x=350,y=80)\n",
    "\n",
    "print(password)\n",
    "obj.mainloop()\n"
   ]
  },
  {
   "cell_type": "code",
   "execution_count": null,
   "metadata": {},
   "outputs": [],
   "source": []
  }
 ],
 "metadata": {
  "kernelspec": {
   "display_name": "Python 3",
   "language": "python",
   "name": "python3"
  },
  "language_info": {
   "codemirror_mode": {
    "name": "ipython",
    "version": 3
   },
   "file_extension": ".py",
   "mimetype": "text/x-python",
   "name": "python",
   "nbconvert_exporter": "python",
   "pygments_lexer": "ipython3",
   "version": "3.7.3"
  }
 },
 "nbformat": 4,
 "nbformat_minor": 2
}
