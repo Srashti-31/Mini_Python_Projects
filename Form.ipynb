{
 "cells": [
  {
   "cell_type": "code",
   "execution_count": 2,
   "metadata": {},
   "outputs": [],
   "source": [
    "#Project  - Tkinter Login form using file handling\n",
    "\n",
    "from tkinter import *\n",
    "def save_info():\n",
    "  firstname_info = firstname.get()\n",
    "  lastname_info = lastname.get()\n",
    "  age_info = age.get()\n",
    "  age_info = str(age_info)\n",
    "  print(firstname_info, lastname_info, age_info)\n",
    "\n",
    "  file = open(\"C:\\\\Users\\\\Tanmay\\\\Desktop\\\\Tanmay.txt\", \"a\")\n",
    "  file.write(firstname_info)\n",
    "  file.write(lastname_info)\n",
    "  file.write(age_info)\n",
    "  file.close()\n",
    "  print(\" User \\n\", firstname_info, \" has been registered\")\n",
    "\n",
    "screen = Tk()\n",
    "screen.geometry(\"500x500\")\n",
    "screen.title(\"Form\")\n",
    "heading = Label(text = \"Python Form\", bg = \"Black\", fg = \"white\", width = \"500\", height = \"3\")\n",
    "heading.pack()\n",
    " \n",
    "firstname_text = Label(text = \"Firstname * \",)\n",
    "lastname_text = Label(text = \"Lastname * \",)\n",
    "age_text = Label(text = \"Age * \",)\n",
    "firstname_text.place(x = 15, y = 70)\n",
    "lastname_text.place(x = 15, y = 140)\n",
    "age_text.place(x = 15, y = 210)\n",
    "\n",
    "\n",
    "firstname = StringVar()\n",
    "lastname = StringVar()\n",
    "age = IntVar()\n",
    "\n",
    "firstname_entry = Entry(textvariable = firstname, width = \"30\")\n",
    "lastname_entry = Entry(textvariable = lastname, width = \"30\")\n",
    "age_entry = Entry(textvariable = age, width = \"30\")\n",
    "\n",
    "firstname_entry.place(x = 15, y = 100)\n",
    "lastname_entry.place(x = 15, y = 180)\n",
    "age_entry.place(x = 15, y = 240)\n",
    "\n",
    "register = Button(screen,text = \"Submit\", width = \"30\", height = \"2\", command = save_info, bg = \"grey\")\n",
    "register.place(x = 15, y = 290)\n",
    "screen.mainloop()"
   ]
  },
  {
   "cell_type": "code",
   "execution_count": null,
   "metadata": {},
   "outputs": [],
   "source": []
  }
 ],
 "metadata": {
  "kernelspec": {
   "display_name": "Python 3",
   "language": "python",
   "name": "python3"
  },
  "language_info": {
   "codemirror_mode": {
    "name": "ipython",
    "version": 3
   },
   "file_extension": ".py",
   "mimetype": "text/x-python",
   "name": "python",
   "nbconvert_exporter": "python",
   "pygments_lexer": "ipython3",
   "version": "3.7.3"
  }
 },
 "nbformat": 4,
 "nbformat_minor": 4
}
