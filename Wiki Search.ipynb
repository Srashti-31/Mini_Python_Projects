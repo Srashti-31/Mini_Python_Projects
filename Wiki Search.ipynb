{
 "cells": [
  {
   "cell_type": "code",
   "execution_count": 2,
   "metadata": {},
   "outputs": [],
   "source": [
    "import wolframalpha\n",
    "client = wolframalpha.Client(\"lilpumpsaysnopeeking\")\n",
    "\n",
    "import wikipedia\n",
    "\n",
    "import PySimpleGUI as sg\n",
    "sg.theme('DarkPurple')\n",
    "layout =[[sg.Text('Enter a command'), sg.InputText()],[sg.Button('Ok'), sg.Button('Cancel')]]\n",
    "window = sg.Window('PyDa', layout)\n",
    "\n",
    "import pyttsx3\n",
    "engine = pyttsx3.init()\n",
    "\n",
    "while True:\n",
    "    event, values = window.read()\n",
    "    if event in (None, 'Cancel'):\n",
    "        break\n",
    "    try:\n",
    "        wiki_res = wikipedia.summary(values[0], sentences=2)\n",
    "        wolfram_res = next(client.query(values[0]).results).text\n",
    "        engine.say(wolfram_res)\n",
    "        sg.PopupNonBlocking(\"Wolfram Result: \"+wolfram_res,\"Wikipedia Result: \"+wiki_res)\n",
    "    except wikipedia.exceptions.DisambiguationError:\n",
    "        wolfram_res = next(client.query(values[0]).results).text\n",
    "        engine.say(wolfram_res)\n",
    "        sg.PopupNonBlocking(wolfram_res)\n",
    "    except wikipedia.exceptions.PageError:\n",
    "        wolfram_res = next(client.query(values[0]).results).text\n",
    "        engine.say(wolfram_res)\n",
    "        sg.PopupNonBlocking(wolfram_res)\n",
    "    except:\n",
    "        wiki_res = wikipedia.summary(values[0], sentences=2)\n",
    "        engine.say(wiki_res)\n",
    "        sg.PopupNonBlocking(wiki_res)\n",
    "\n",
    "    engine.runAndWait()\n",
    "\n",
    "    print (values[0])\n",
    "\n",
    "window.close()"
   ]
  },
  {
   "cell_type": "code",
   "execution_count": null,
   "metadata": {},
   "outputs": [],
   "source": []
  }
 ],
 "metadata": {
  "kernelspec": {
   "display_name": "Python 3",
   "language": "python",
   "name": "python3"
  },
  "language_info": {
   "codemirror_mode": {
    "name": "ipython",
    "version": 3
   },
   "file_extension": ".py",
   "mimetype": "text/x-python",
   "name": "python",
   "nbconvert_exporter": "python",
   "pygments_lexer": "ipython3",
   "version": "3.7.3"
  }
 },
 "nbformat": 4,
 "nbformat_minor": 2
}
